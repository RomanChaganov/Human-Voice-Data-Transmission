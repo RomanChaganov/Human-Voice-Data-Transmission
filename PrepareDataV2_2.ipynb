{
 "cells": [
  {
   "cell_type": "code",
   "execution_count": null,
   "id": "14fa772c",
   "metadata": {
    "id": "14fa772c"
   },
   "outputs": [],
   "source": [
    "import pandas as pd\n",
    "file = pd.read_excel('russian_speech.xlsx')\n",
    "y = [sentence for sentence in file['Как пройти до корпуса?']]"
   ]
  },
  {
   "cell_type": "code",
   "execution_count": null,
   "id": "48e95d4b",
   "metadata": {
    "id": "48e95d4b"
   },
   "outputs": [],
   "source": [
    "import os\n",
    "import librosa\n",
    "\n",
    "dir_name = \"abnormal_voice/\"\n",
    "files_in_dir = [f for f in os.listdir(dir_name)]\n",
    "\n",
    "X = []\n",
    "i = 1\n",
    "for e in files_in_dir:\n",
    "    X.append(librosa.load(dir_name + e, sr=16000)[0])\n",
    "    if i % 100 == 0:\n",
    "        print(i)\n",
    "    i += 1"
   ]
  },
  {
   "cell_type": "code",
   "execution_count": null,
   "id": "96582b98",
   "metadata": {
    "id": "96582b98"
   },
   "outputs": [],
   "source": [
    "X_train = X[:700]\n",
    "y_train = y[:700]\n",
    "X_test = X[700:]\n",
    "y_test = y[700:]"
   ]
  },
  {
   "cell_type": "code",
   "execution_count": null,
   "id": "52fc17b4",
   "metadata": {
    "id": "52fc17b4"
   },
   "outputs": [],
   "source": [
    "import re\n",
    "chars_to_ignore_regex = '[\\,\\?\\.\\!\\-\\;\\:\\\"\\“\\%\\‘\\”\\�\\\\xad\\\\n\\–]'\n",
    "\n",
    "def remove_special_characters(sentence):\n",
    "    sentence = re.sub(chars_to_ignore_regex, '', sentence).lower() + \" \"\n",
    "    sentence = sentence.replace('4', 'четыре').replace('р220', 'р двести двадцать').replace('6', 'шесть')\n",
    "    return sentence\n",
    "\n",
    "y = list(map(remove_special_characters, y))\n",
    "y_train = list(map(remove_special_characters, y_train))\n",
    "y_test = list(map(remove_special_characters, y_test))"
   ]
  },
  {
   "cell_type": "code",
   "execution_count": null,
   "id": "8c494aea",
   "metadata": {
    "id": "8c494aea"
   },
   "outputs": [],
   "source": [
    "!pip install transformers\n",
    "from transformers import AutoModelForCTC, Wav2Vec2Processor\n"
   ]
  },
  {
   "cell_type": "code",
   "execution_count": null,
   "id": "98369a28",
   "metadata": {
    "id": "98369a28"
   },
   "outputs": [],
   "source": [
    "model = AutoModelForCTC.from_pretrained(\"UrukHan/wav2vec2-russian\")\n",
    "processor = Wav2Vec2Processor.from_pretrained(\"UrukHan/wav2vec2-russian\")"
   ]
  },
  {
   "cell_type": "code",
   "execution_count": null,
   "id": "56e1d1ef",
   "metadata": {
    "id": "56e1d1ef"
   },
   "outputs": [],
   "source": [
    "!pip install datasets\n",
    "from datasets import Dataset\n",
    "def p_d(audioX, textY):\n",
    "    X_list = []\n",
    "    Len_list = []\n",
    "    Y_list = []\n",
    "    for i in range(len(audioX)):\n",
    "        X_list.append(processor(audioX[i], sampling_rate=16000).input_values[0])\n",
    "        Len_list.append(len(X_list[-1]))\n",
    "        with processor.as_target_processor():\n",
    "            Y_list.append(processor(textY[i]).input_ids)\n",
    "        \n",
    "    dataset = Dataset.from_dict({'input_values': X_list, 'input_length': Len_list, 'labels': Y_list})\n",
    "    return dataset"
   ]
  },
  {
   "cell_type": "code",
   "execution_count": null,
   "id": "25352536",
   "metadata": {
    "id": "25352536"
   },
   "outputs": [],
   "source": [
    "train_dataset = p_d(X_train, y_train)\n",
    "test_dataset = p_d(X_test, y_test)"
   ]
  },
  {
   "cell_type": "code",
   "execution_count": null,
   "id": "c83d5c2e",
   "metadata": {
    "id": "c83d5c2e"
   },
   "outputs": [],
   "source": [
    "import torch\n",
    "\n",
    "from dataclasses import dataclass, field\n",
    "from typing import Any, Dict, List, Optional, Union\n",
    "\n",
    "\n",
    "class DataCollatorCTCWithPadding:\n",
    "    \"\"\"\n",
    "    Data collator that will dynamically pad the inputs received.\n",
    "    Args:\n",
    "        processor (:class:`~transformers.Wav2Vec2Processor`)\n",
    "            The processor used for proccessing the data.\n",
    "        padding (:obj:`bool`, :obj:`str` or :class:`~transformers.tokenization_utils_base.PaddingStrategy`, `optional`, defaults to :obj:`True`):\n",
    "            Select a strategy to pad the returned sequences (according to the model's padding side and padding index)\n",
    "            among:\n",
    "            * :obj:`True` or :obj:`'longest'`: Pad to the longest sequence in the batch (or no padding if only a single\n",
    "              sequence if provided).\n",
    "            * :obj:`'max_length'`: Pad to a maximum length specified with the argument :obj:`max_length` or to the\n",
    "              maximum acceptable input length for the model if that argument is not provided.\n",
    "            * :obj:`False` or :obj:`'do_not_pad'` (default): No padding (i.e., can output a batch with sequences of\n",
    "              different lengths).\n",
    "    \"\"\"\n",
    "        \n",
    "    def __init__(self, processor, padding):\n",
    "        self.processor = processor\n",
    "        self.padding = padding\n",
    "\n",
    "    def __call__(self, features: List[Dict[str, Union[List[int], torch.Tensor]]]) -> Dict[str, torch.Tensor]:\n",
    "        # split inputs and labels since they have to be of different lengths and need\n",
    "        # different padding methods\n",
    "        input_features = [{\"input_values\": feature[\"input_values\"]} for feature in features]\n",
    "        label_features = [{\"input_ids\": feature[\"labels\"]} for feature in features]\n",
    "\n",
    "        batch = self.processor.pad(\n",
    "            input_features,\n",
    "            padding=self.padding,\n",
    "            return_tensors=\"pt\",\n",
    "        )\n",
    "        with self.processor.as_target_processor():\n",
    "            labels_batch = self.processor.pad(\n",
    "                label_features,\n",
    "                padding=self.padding,\n",
    "                return_tensors=\"pt\",\n",
    "            )\n",
    "\n",
    "        # replace padding with -100 to ignore loss correctly\n",
    "        labels = labels_batch[\"input_ids\"].masked_fill(labels_batch.attention_mask.ne(1), -100)\n",
    "\n",
    "        batch[\"labels\"] = labels\n",
    "\n",
    "        return batch"
   ]
  },
  {
   "cell_type": "code",
   "execution_count": null,
   "id": "7a1d827a",
   "metadata": {
    "id": "7a1d827a"
   },
   "outputs": [],
   "source": [
    "data_collator = DataCollatorCTCWithPadding(processor=processor, padding=True)"
   ]
  },
  {
   "cell_type": "code",
   "execution_count": null,
   "id": "b3797a1e",
   "metadata": {
    "id": "b3797a1e"
   },
   "outputs": [],
   "source": [
    "from datasets import load_metric\n",
    "wer_metric = load_metric(\"wer\")"
   ]
  },
  {
   "cell_type": "code",
   "execution_count": null,
   "id": "f761add5",
   "metadata": {
    "id": "f761add5"
   },
   "outputs": [],
   "source": [
    "def compute_metrics(pred):\n",
    "    pred_logits = pred.predictions\n",
    "    pred_ids = np.argmax(pred_logits, axis=-1)\n",
    "\n",
    "    pred.label_ids[pred.label_ids == -100] = processor.tokenizer.pad_token_id\n",
    "\n",
    "    pred_str = processor.batch_decode(pred_ids)\n",
    "    # we do not want to group tokens when computing the metrics\n",
    "    label_str = processor.batch_decode(pred.label_ids, group_tokens=False)\n",
    "\n",
    "    wer = wer_metric.compute(predictions=pred_str, references=label_str)\n",
    "\n",
    "    return {\"wer\": wer}"
   ]
  },
  {
   "cell_type": "code",
   "execution_count": null,
   "id": "f1a5267a",
   "metadata": {
    "id": "f1a5267a"
   },
   "outputs": [],
   "source": [
    "from transformers import TrainingArguments\n",
    "\n",
    "training_args = TrainingArguments(\n",
    "  output_dir=\"UrukHan/wav2vec2-russian\",\n",
    "  group_by_length=True,\n",
    "  per_device_train_batch_size=16,\n",
    "  evaluation_strategy=\"steps\",\n",
    "  num_train_epochs=10,\n",
    "  fp16=True,\n",
    "  gradient_checkpointing=True,\n",
    "  save_steps=500,\n",
    "  eval_steps=500,\n",
    "  logging_steps=500,\n",
    "  learning_rate=1e-7,\n",
    "  weight_decay=0.005,\n",
    "  warmup_steps=1000,\n",
    "  save_total_limit=2,\n",
    "  push_to_hub=False\n",
    ")"
   ]
  },
  {
   "cell_type": "code",
   "execution_count": null,
   "id": "e6df3d4a",
   "metadata": {
    "id": "e6df3d4a"
   },
   "outputs": [],
   "source": [
    "from transformers import Trainer\n",
    "\n",
    "trainer = Trainer(\n",
    "    model=model,\n",
    "    data_collator=data_collator,\n",
    "    args=training_args,\n",
    "    compute_metrics=compute_metrics,\n",
    "    train_dataset=train_dataset,\n",
    "    eval_dataset=test_dataset,\n",
    "    tokenizer=processor.feature_extractor,\n",
    ")"
   ]
  },
  {
   "cell_type": "code",
   "execution_count": null,
   "id": "cb8660ca",
   "metadata": {
    "id": "cb8660ca",
    "scrolled": false
   },
   "outputs": [],
   "source": [
    "trainer.train()"
   ]
  },
  {
   "cell_type": "code",
   "execution_count": null,
   "id": "8d85fb1f",
   "metadata": {
    "id": "8d85fb1f"
   },
   "outputs": [],
   "source": []
  },
  {
   "cell_type": "code",
   "execution_count": null,
   "id": "NTfm-Rf7Wao7",
   "metadata": {
    "id": "NTfm-Rf7Wao7"
   },
   "outputs": [],
   "source": [
    "import numpy as np\n",
    "trainer.evaluate()"
   ]
  },
  {
   "cell_type": "code",
   "execution_count": null,
   "id": "a9lIQTFRWyr1",
   "metadata": {
    "id": "a9lIQTFRWyr1"
   },
   "outputs": [],
   "source": [
    "model_dir = '/content/gdrive/MyDrive/'\n",
    "trainer.save_model('team_3_4_united_model/model')"
   ]
  },
  {
   "cell_type": "code",
   "execution_count": null,
   "id": "Fr6Yd_2OZJcw",
   "metadata": {
    "id": "Fr6Yd_2OZJcw"
   },
   "outputs": [],
   "source": [
    "from google.colab import files"
   ]
  },
  {
   "cell_type": "code",
   "execution_count": null,
   "id": "FrFQy9lMZQeH",
   "metadata": {
    "id": "FrFQy9lMZQeH"
   },
   "outputs": [],
   "source": [
    "files.download('team_3_4_united_model')"
   ]
  },
  {
   "cell_type": "code",
   "execution_count": null,
   "id": "BDBnjvPHbcnc",
   "metadata": {
    "id": "BDBnjvPHbcnc"
   },
   "outputs": [],
   "source": [
    "from google.colab import drive\n",
    "drive.mount('/content/gdrive')"
   ]
  },
  {
   "cell_type": "code",
   "execution_count": null,
   "id": "LwRdR3UOsJg4",
   "metadata": {
    "id": "LwRdR3UOsJg4"
   },
   "outputs": [],
   "source": [
    "from google.colab import drive\n",
    "drive.mount('/content/drive')"
   ]
  },
  {
   "cell_type": "code",
   "execution_count": null,
   "id": "qcZ1d4PLZ6Mf",
   "metadata": {
    "id": "qcZ1d4PLZ6Mf"
   },
   "outputs": [],
   "source": []
  }
 ],
 "metadata": {
  "accelerator": "GPU",
  "colab": {
   "private_outputs": true,
   "provenance": []
  },
  "gpuClass": "standard",
  "kernelspec": {
   "display_name": "Python 3 (ipykernel)",
   "language": "python",
   "name": "python3"
  },
  "language_info": {
   "codemirror_mode": {
    "name": "ipython",
    "version": 3
   },
   "file_extension": ".py",
   "mimetype": "text/x-python",
   "name": "python",
   "nbconvert_exporter": "python",
   "pygments_lexer": "ipython3",
   "version": "3.10.8"
  }
 },
 "nbformat": 4,
 "nbformat_minor": 5
}
